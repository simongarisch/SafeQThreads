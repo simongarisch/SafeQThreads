{
 "cells": [
  {
   "cell_type": "markdown",
   "metadata": {},
   "source": [
    "# safeqthreads\n",
    "\n",
    "The motivation behind qsafethreads is to allow Qthreads to finish before the application exits. If the application exits before a QThread is finished the Python garbage collector will release the QThread and potentially cause Python to crash."
   ]
  },
  {
   "cell_type": "markdown",
   "metadata": {},
   "source": [
    "## QThreads and the Python garbage collector (gc)\n",
    "If the Python gc releases a QThread before PyQt is finished with it then this can cause Python to crash. Here is a basic example:"
   ]
  },
  {
   "cell_type": "code",
   "execution_count": 4,
   "metadata": {},
   "outputs": [],
   "source": [
    "# how to crash PyQt 101 ...\n",
    "from PyQt5 import QtWidgets, QtCore\n",
    "import time\n",
    "\n",
    "def targetFunc():\n",
    "    time.sleep(5)\n",
    "\n",
    "def runThread():\n",
    "    thread = QtCore.QThread()\n",
    "    thread.started.connect(targetFunc)\n",
    "    thread.start()\n",
    "    \n",
    "runThread()"
   ]
  },
  {
   "cell_type": "markdown",
   "metadata": {},
   "source": [
    "![PyQt crash](crash.png)"
   ]
  },
  {
   "cell_type": "markdown",
   "metadata": {},
   "source": [
    "This same issue can occur when a PyQt application exits before QThreads are finished."
   ]
  },
  {
   "cell_type": "markdown",
   "metadata": {},
   "source": [
    "## Some background\n",
    "There are a couple of ways that you can run threads in PyQt:\n",
    "-  The [threading module](https://docs.python.org/3/library/threading.html) within the Python standard library\n",
    "-  Use [QThread](http://pyqt.sourceforge.net/Docs/PyQt4/qthread.html) from PyQt\n",
    "\n",
    "When working with PyQt the QThreads option gives you access to additional PyQt functionality such as signals and slots. <br>\n",
    "\n",
    "We can create threads using the standard library by inheriting from the threading.Thread class and overriding the run method; you'll see many examples of QThread implemented in this way, but it's [not recommended](http://blog.qt.io/blog/2010/06/17/youre-doing-it-wrong/). Instead, it's suggested that a worker (which inherits from QObject) be created and moved to a thread with its [moveToThread](http://pyqt.sourceforge.net/Docs/PyQt4/qobject.html#moveToThread) method. We'll provide examples of using safeqthreads with both.\n"
   ]
  },
  {
   "cell_type": "markdown",
   "metadata": {},
   "source": [
    "## Using safeqthreads with threads and workers\n",
    "safeqthreads.close_all_threads() is the last line that runs at the end of the main function. If you comment this line out then there is a chance that you'll get either of:\n",
    "-  A warning of 'QThread: Destroyed while ethread is still running'\n",
    "-  Python has stopped working (a crash)\n"
   ]
  },
  {
   "cell_type": "code",
   "execution_count": 1,
   "metadata": {},
   "outputs": [],
   "source": [
    "%reset -f\n",
    "import time\n",
    "from PyQt5 import QtWidgets, QtCore\n",
    "import safeqthreads\n",
    "\n",
    "class UpdateSignal(QtCore.QObject):\n",
    "    fire = QtCore.pyqtSignal(int)\n",
    "    \n",
    "class SomeWorker(safeqthreads.SafeWorker):\n",
    "    ''' a worker that does something trivial like\n",
    "        incrementing a counter every second\n",
    "    '''\n",
    "    def __init__(self, thread, signal):\n",
    "        # this thread will be passed to the constructor of SafeWorker\n",
    "        # which will register this worker with the thread\n",
    "        super(SomeWorker, self).__init__(thread)\n",
    "        self.signal = signal\n",
    "        self.counter = 0\n",
    "\n",
    "    def loop(self):\n",
    "        while True:\n",
    "            if self.stop_running:\n",
    "                return\n",
    "            else:\n",
    "                self.counter += 1\n",
    "                self.signal.fire.emit(self.counter)\n",
    "            time.sleep(3)\n",
    "\n",
    "\n",
    "class MainWindow(QtWidgets.QMainWindow):\n",
    "    def __init__(self):\n",
    "        super(MainWindow, self).__init__()\n",
    "        self.setWindowTitle(\"The Main Window\")\n",
    "        self.resize(300, 300)\n",
    "        self.create_thread()\n",
    "\n",
    "    def create_thread(self):\n",
    "        # create the signal\n",
    "        signal = self.signal = UpdateSignal()\n",
    "        signal.fire.connect(self.signal_catcher)\n",
    "\n",
    "        # then create an instance of SafeQThread\n",
    "        thread = self.thread = safeqthreads.SafeQThread()\n",
    "        worker = self.worker = SomeWorker(thread, signal)\n",
    "\n",
    "        # http://pyqt.sourceforge.net/Docs/PyQt4/qobject.html#moveToThread\n",
    "        worker.moveToThread(thread)\n",
    "        thread.started.connect(worker.loop)\n",
    "        thread.start()\n",
    "\n",
    "    @QtCore.pyqtSlot(int)\n",
    "    def signal_catcher(self, counter):\n",
    "        self.setWindowTitle(str(counter))\n",
    "\n",
    "        \n",
    "def main():\n",
    "    app = QtWidgets.QApplication([]) # create the app instance\n",
    "    win = MainWindow()\n",
    "    win.show()                       # show the window\n",
    "    app.exec_()                      # enter the app mainloop\n",
    "    safeqthreads.close_all_threads() # <-- comment me out and see what happens\n",
    "\n",
    "\n",
    "if __name__ == \"__main__\":\n",
    "    main()\n"
   ]
  },
  {
   "cell_type": "markdown",
   "metadata": {},
   "source": [
    "Here is my terminal before and after commenting out 'safeqthreads.close_all_threads()'."
   ]
  },
  {
   "cell_type": "markdown",
   "metadata": {},
   "source": [
    "![commenting_out](commenting_out.png)"
   ]
  },
  {
   "cell_type": "markdown",
   "metadata": {},
   "source": [
    "## Using safeqthreads and inheriting from QThread\n",
    "As mentioned earlier, this is not the recommended approach. Use worker and moveToThread() instead as detailed above. In any case, here is an example where we inherit from QThread and override the run method."
   ]
  },
  {
   "cell_type": "code",
   "execution_count": 1,
   "metadata": {},
   "outputs": [],
   "source": [
    "%reset -f\n",
    "import time\n",
    "from PyQt5 import QtWidgets, QtCore\n",
    "import safeqthreads\n",
    "\n",
    "class UpdateSignal(QtCore.QObject):\n",
    "    fire = QtCore.pyqtSignal(int)\n",
    "\n",
    "\n",
    "class SomeThread(safeqthreads.SafeQThread):\n",
    "    def __init__(self, signal):\n",
    "        super(SomeThread, self).__init__()\n",
    "        self.signal = signal\n",
    "        self.counter = 0\n",
    "        self.start()\n",
    "        \n",
    "    def run(self):\n",
    "        ''' this performs like our worker.loop method \n",
    "            from the previous example '''\n",
    "        while True:\n",
    "            if self.stop_running:\n",
    "                return\n",
    "            else:\n",
    "                self.counter += 1\n",
    "                self.signal.fire.emit(self.counter)\n",
    "            time.sleep(3)\n",
    "\n",
    "\n",
    "class MainWindow(QtWidgets.QMainWindow):\n",
    "    def __init__(self):\n",
    "        super(MainWindow, self).__init__()\n",
    "        self.setWindowTitle(\"The Main Window\")\n",
    "        self.resize(300, 300)\n",
    "        self.create_thread()\n",
    "\n",
    "    def create_thread(self):\n",
    "        signal = self.signal = UpdateSignal()\n",
    "        signal.fire.connect(self.signal_catcher)\n",
    "        thread = self.thread = SomeThread(signal) # and create our thread\n",
    "\n",
    "    @QtCore.pyqtSlot(int)\n",
    "    def signal_catcher(self, counter):\n",
    "        self.setWindowTitle(str(counter))\n",
    "\n",
    "\n",
    "def main():\n",
    "    app = QtWidgets.QApplication([]) # create the app instance\n",
    "    win = MainWindow()\n",
    "    win.show()                       # show the window\n",
    "    app.exec_()                      # enter the app mainloop\n",
    "    safeqthreads.close_all_threads()\n",
    "\n",
    "\n",
    "if __name__ == \"__main__\":\n",
    "    main()\n"
   ]
  },
  {
   "cell_type": "markdown",
   "metadata": {},
   "source": [
    "***"
   ]
  }
 ],
 "metadata": {
  "kernelspec": {
   "display_name": "py36",
   "language": "python",
   "name": "py36"
  },
  "language_info": {
   "codemirror_mode": {
    "name": "ipython",
    "version": 3
   },
   "file_extension": ".py",
   "mimetype": "text/x-python",
   "name": "python",
   "nbconvert_exporter": "python",
   "pygments_lexer": "ipython3",
   "version": "3.6.6"
  }
 },
 "nbformat": 4,
 "nbformat_minor": 2
}
