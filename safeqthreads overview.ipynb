{
 "cells": [
  {
   "cell_type": "markdown",
   "metadata": {},
   "source": [
    "# Using safeqthreads"
   ]
  },
  {
   "cell_type": "code",
   "execution_count": null,
   "metadata": {},
   "outputs": [],
   "source": [
    "%reset -f\n",
    "import time\n",
    "from PyQt5 import QtWidgets, QtCore\n",
    "import safeqthreads\n",
    "\n",
    "class UpdateSignal(QtCore.QObject):\n",
    "    fire = QtCore.pyqtSignal(int)\n",
    "    \n",
    "class SomeWorker(safeqthreads.SafeWorker):\n",
    "    ''' a worker that does something trivial like\n",
    "        incrementing a counter every second\n",
    "    '''\n",
    "    def __init__(self, signal, thread):\n",
    "        # this thread will be passed to the constructor of SafeWorker\n",
    "        # which will register this worker with the thread\n",
    "        super(SomeWorker, self).__init__(thread)\n",
    "        self.signal = signal\n",
    "        self.counter = 0\n",
    "\n",
    "    def long_running(self):\n",
    "        while True:\n",
    "            if self.stop_running:\n",
    "                return\n",
    "            else:\n",
    "                #self.counter += 1\n",
    "                #self.signal.fire.emit(self.counter)\n",
    "                time.sleep(1)\n",
    "\n",
    "\n",
    "class MainWindow(QtWidgets.QMainWindow):\n",
    "    def __init__(self):\n",
    "        super(MainWindow, self).__init__()\n",
    "        self.setWindowTitle(\"The Main Window\")\n",
    "        self.resize(300, 300)\n",
    "        self.create_thread()\n",
    "\n",
    "    def create_thread(self):\n",
    "        # create the signal\n",
    "        signal = self.signal = UpdateSignal()\n",
    "        signal.fire.connect(self.signal_catcher)\n",
    "\n",
    "        # then create an instance of SafeQThread\n",
    "        thread = self.thread = safeqthreads.SafeQThread()\n",
    "        worker = self.worker = SomeWorker(signal, thread)\n",
    "        thread.started.connect(worker.long_running)\n",
    "        thread.start()\n",
    "        \n",
    "    @QtCore.pyqtSlot(int)\n",
    "    def signal_catcher(self, counter):\n",
    "        self.setWindowTitle(str(counter))\n",
    "\n",
    "        \n",
    "def main():\n",
    "    app = QtWidgets.QApplication([]) # create the app instance\n",
    "    win = MainWindow()\n",
    "    win.show()                       # show the window\n",
    "    app.exec_()                      # enter the app mainloop\n",
    "        \n",
    "if __name__ == \"__main__\":\n",
    "    main()\n"
   ]
  },
  {
   "cell_type": "code",
   "execution_count": null,
   "metadata": {},
   "outputs": [],
   "source": []
  }
 ],
 "metadata": {
  "kernelspec": {
   "display_name": "py27",
   "language": "python",
   "name": "py27"
  },
  "language_info": {
   "codemirror_mode": {
    "name": "ipython",
    "version": 2
   },
   "file_extension": ".py",
   "mimetype": "text/x-python",
   "name": "python",
   "nbconvert_exporter": "python",
   "pygments_lexer": "ipython2",
   "version": "2.7.15"
  }
 },
 "nbformat": 4,
 "nbformat_minor": 2
}
